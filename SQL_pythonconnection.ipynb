{
 "cells": [
  {
   "cell_type": "markdown",
   "metadata": {},
   "source": [
    "## SQL miniproject Part 2"
   ]
  },
  {
   "cell_type": "code",
   "execution_count": 2,
   "metadata": {},
   "outputs": [],
   "source": [
    "import numpy as np\n",
    "import pandas as pd\n",
    "from sqlalchemy import create_engine"
   ]
  },
  {
   "cell_type": "markdown",
   "metadata": {},
   "source": [
    "### creating local database engine for countryclub sqlite database"
   ]
  },
  {
   "cell_type": "code",
   "execution_count": 3,
   "metadata": {},
   "outputs": [],
   "source": [
    "engine = create_engine('sqlite:///sqlite_db_pythonsqlite.db')"
   ]
  },
  {
   "cell_type": "code",
   "execution_count": 4,
   "metadata": {},
   "outputs": [
    {
     "data": {
      "text/plain": [
       "['Bookings', 'Facilities', 'Members']"
      ]
     },
     "execution_count": 4,
     "metadata": {},
     "output_type": "execute_result"
    }
   ],
   "source": [
    "engine.table_names()\n",
    "    "
   ]
  },
  {
   "cell_type": "markdown",
   "metadata": {},
   "source": [
    "##### To answer most of these questions I'm going to write a function that takes in the SQL query as a string and outputs a pandas dataframe."
   ]
  },
  {
   "cell_type": "code",
   "execution_count": 5,
   "metadata": {},
   "outputs": [],
   "source": [
    "def SQLquery(query_string):\n",
    "    \n",
    "    # open context manager\n",
    "    with engine.connect() as con:\n",
    "        rs = con.execute(query_string)\n",
    "        df = pd.DataFrame(rs.fetchall())\n",
    "        df.columns = rs.keys()\n",
    "        \n",
    "    return df"
   ]
  },
  {
   "cell_type": "markdown",
   "metadata": {},
   "source": [
    "##### Q10: Produce a list of facilities with a total revenue less than 1000. The output of facility name and total revenue, sorted by revenue. Remember that there's a different cost for guests and members!"
   ]
  },
  {
   "cell_type": "code",
   "execution_count": 20,
   "metadata": {},
   "outputs": [],
   "source": [
    "Q10Answer = SQLquery(\"\"\"SELECT Facilities.name as Facility, \n",
    "SUM(CASE WHEN Bookings.memid = 0 THEN Bookings.slots*Facilities.guestcost\n",
    "ELSE Bookings.slots*Facilities.membercost END) AS Revenue\n",
    "FROM Bookings\n",
    "INNER JOIN Facilities\n",
    "ON Bookings.facid = Facilities.facid\n",
    "GROUP BY Facilities.name\n",
    "HAVING Revenue < 1000\"\"\" )"
   ]
  },
  {
   "cell_type": "code",
   "execution_count": 47,
   "metadata": {
    "scrolled": true
   },
   "outputs": [
    {
     "name": "stdout",
     "output_type": "stream",
     "text": [
      "        Facility  Revenue\n",
      "0     Pool Table      270\n",
      "1  Snooker Table      240\n",
      "2   Table Tennis      180\n"
     ]
    }
   ],
   "source": [
    "print(Q10Answer)"
   ]
  },
  {
   "cell_type": "markdown",
   "metadata": {},
   "source": [
    "##### Q11: Produce a report of members and who recommended them in alphabetic surname,firstname order"
   ]
  },
  {
   "cell_type": "code",
   "execution_count": 45,
   "metadata": {
    "scrolled": true
   },
   "outputs": [],
   "source": [
    "Q11Answer = SQLquery('''SELECT m.surname || ', ' || m.firstname AS Member_Name, \n",
    "CASE WHEN m.recommendedby IS NOT NULL THEN \n",
    "(SELECT surname || ', ' || firstname \n",
    "FROM Members AS mem \n",
    "WHERE m.recommendedby = mem.memid) \n",
    "END AS Recommender_Name\n",
    "FROM Members as m ORDER BY Member_name ''')"
   ]
  },
  {
   "cell_type": "code",
   "execution_count": 46,
   "metadata": {},
   "outputs": [
    {
     "name": "stdout",
     "output_type": "stream",
     "text": [
      "                 Member_Name    Recommender_Name\n",
      "0            Bader, Florence    Stibbons, Ponder\n",
      "1                Baker, Anne    Stibbons, Ponder\n",
      "2             Baker, Timothy     Farrell, Jemima\n",
      "3                Boothe, Tim         Rownam, Tim\n",
      "4            Butters, Gerald       Smith, Darren\n",
      "5               Coplin, Joan      Baker, Timothy\n",
      "6             Crumpet, Erica        Smith, Tracy\n",
      "7                Dare, Nancy    Joplette, Janice\n",
      "8             Farrell, David                None\n",
      "9            Farrell, Jemima                None\n",
      "10              GUEST, GUEST                None\n",
      "11          Genting, Matthew     Butters, Gerald\n",
      "12                Hunt, John  Purview, Millicent\n",
      "13              Jones, David    Joplette, Janice\n",
      "14            Jones, Douglas        Jones, David\n",
      "15          Joplette, Janice       Smith, Darren\n",
      "16           Mackenzie, Anna       Smith, Darren\n",
      "17             Owen, Charles       Smith, Darren\n",
      "18             Pinker, David     Farrell, Jemima\n",
      "19        Purview, Millicent        Smith, Tracy\n",
      "20               Rownam, Tim                None\n",
      "21         Rumney, Henrietta    Genting, Matthew\n",
      "22         Sarwin, Ramnaresh     Bader, Florence\n",
      "23             Smith, Darren                None\n",
      "24             Smith, Darren                None\n",
      "25               Smith, Jack       Smith, Darren\n",
      "26              Smith, Tracy                None\n",
      "27          Stibbons, Ponder       Tracy, Burton\n",
      "28             Tracy, Burton                None\n",
      "29      Tupperware, Hyacinth                None\n",
      "30  Worthington-Smyth, Henry        Smith, Tracy\n"
     ]
    }
   ],
   "source": [
    "print(Q11Answer)"
   ]
  },
  {
   "cell_type": "markdown",
   "metadata": {},
   "source": [
    "####  Q12: Find the facilities with their usage by member, but not guests "
   ]
  },
  {
   "cell_type": "code",
   "execution_count": 77,
   "metadata": {
    "scrolled": false
   },
   "outputs": [],
   "source": [
    "Q12Answer = SQLquery('''SELECT Facilities.name AS facility_name, \n",
    "Bookings.memid, firstname || ' ' || surname as Member_Name, COUNT(Bookings.memid) as usage\n",
    "FROM Facilities\n",
    "INNER JOIN Bookings\n",
    "ON Facilities.facid = Bookings.facid\n",
    "INNER JOIN Members\n",
    "ON Members.memid = Bookings.memid\n",
    "GROUP BY Facilities.name, Bookings.memid\n",
    "HAVING Bookings.memid <> 0''')"
   ]
  },
  {
   "cell_type": "code",
   "execution_count": 79,
   "metadata": {
    "scrolled": true
   },
   "outputs": [
    {
     "name": "stdout",
     "output_type": "stream",
     "text": [
      "       facility_name        Member_Name  usage\n",
      "0    Badminton Court       Darren Smith    132\n",
      "1    Badminton Court        Tracy Smith     32\n",
      "2    Badminton Court         Tim Rownam      4\n",
      "3    Badminton Court     Gerald Butters     20\n",
      "4    Badminton Court       Burton Tracy      2\n",
      "..               ...                ...    ...\n",
      "197   Tennis Court 2   Ramnaresh Sarwin     11\n",
      "198   Tennis Court 2   Henrietta Rumney      1\n",
      "199   Tennis Court 2      David Farrell      1\n",
      "200   Tennis Court 2  Millicent Purview      1\n",
      "201   Tennis Court 2          John Hunt      4\n",
      "\n",
      "[202 rows x 3 columns]\n"
     ]
    }
   ],
   "source": [
    "print(Q12Answer[['facility_name', 'Member_Name', 'usage'] ])"
   ]
  },
  {
   "cell_type": "markdown",
   "metadata": {},
   "source": [
    "####  Q13: Find the facilities usage by month, but not guests "
   ]
  },
  {
   "cell_type": "code",
   "execution_count": 129,
   "metadata": {
    "scrolled": true
   },
   "outputs": [],
   "source": [
    " Q13answer = SQLquery(''' SELECT Facilities.name as facility_name, month, count(month) as monthly_usage \n",
    " FROM Facilities \n",
    " INNER JOIN (SELECT memid, facid, strftime('%m',starttime) as month FROM Bookings) as subq\n",
    " ON Facilities.facid = subq.facid\n",
    " GROUP BY facility_name, month\n",
    " HAVING memid <> 0\n",
    " ''')"
   ]
  },
  {
   "cell_type": "code",
   "execution_count": 130,
   "metadata": {},
   "outputs": [
    {
     "name": "stdout",
     "output_type": "stream",
     "text": [
      "      facility_name month  monthly_usage\n",
      "0   Badminton Court    07             56\n",
      "1   Badminton Court    08            146\n",
      "2   Badminton Court    09            181\n",
      "3    Massage Room 1    07            123\n",
      "4    Massage Room 1    08            224\n",
      "5    Massage Room 1    09            282\n",
      "6    Massage Room 2    08             40\n",
      "7        Pool Table    07            110\n",
      "8        Pool Table    08            291\n",
      "9        Pool Table    09            435\n",
      "10    Snooker Table    07             75\n",
      "11    Snooker Table    08            159\n",
      "12    Snooker Table    09            210\n",
      "13     Table Tennis    07             51\n",
      "14     Table Tennis    08            147\n",
      "15     Table Tennis    09            205\n",
      "16   Tennis Court 1    07             88\n",
      "17   Tennis Court 1    08            146\n",
      "18   Tennis Court 2    08            149\n"
     ]
    }
   ],
   "source": [
    "print(Q13answer)"
   ]
  }
 ],
 "metadata": {
  "kernelspec": {
   "display_name": "Python 3",
   "language": "python",
   "name": "python3"
  },
  "language_info": {
   "codemirror_mode": {
    "name": "ipython",
    "version": 3
   },
   "file_extension": ".py",
   "mimetype": "text/x-python",
   "name": "python",
   "nbconvert_exporter": "python",
   "pygments_lexer": "ipython3",
   "version": "3.8.5"
  }
 },
 "nbformat": 4,
 "nbformat_minor": 5
}
